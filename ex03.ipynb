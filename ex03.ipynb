{
 "cells": [
  {
   "cell_type": "markdown",
   "id": "1f488514-c2f4-41c7-ae46-bea7ad6de994",
   "metadata": {},
   "source": [
    "## Exercise 3: Multi asset returns"
   ]
  },
  {
   "cell_type": "code",
   "execution_count": 2,
   "id": "2dbf5660",
   "metadata": {},
   "outputs": [],
   "source": [
    "import pandas as pd\n",
    "import numpy as np\n",
    "import matplotlib.pyplot as plt\n",
    "import tabulate\n",
    "import jupyter as jp"
   ]
  },
  {
   "cell_type": "code",
   "execution_count": 3,
   "id": "d9f70df3-89c7-4e6c-b5b0-bef8dfe92d5b",
   "metadata": {},
   "outputs": [],
   "source": [
    "business_dates = pd.bdate_range('2021-01-01', '2021-12-31')\n",
    "\n",
    "#generate tickers\n",
    "tickers = ['AAPL', 'FB', 'GE', 'AMZN', 'DAI']\n",
    "\n",
    "#create indexs\n",
    "index = pd.MultiIndex.from_product([business_dates, tickers], names=['Date', 'Ticker'])\n",
    "\n",
    "# create DFs\n",
    "market_data = pd.DataFrame(index=index,\n",
    "                        data=np.random.randn(len(index), 1),\n",
    "                        columns=['Price'])\n"
   ]
  },
  {
   "cell_type": "code",
   "execution_count": null,
   "id": "03888c73-5e35-459b-a472-60fc093d610f",
   "metadata": {},
   "outputs": [],
   "source": [
    "# 1. compute the daily returns (return(d) = (price(d)-price(d-1))/price(d-1)) for all the companies and returns a DataFrame as\n",
    "market_data.pivot_table(values=\"Price\", index=\"Date\", columns=\"Ticker\").pct_change()\n",
    "market_data.head()"
   ]
  }
 ],
 "metadata": {
  "kernelspec": {
   "display_name": "ex00",
   "language": "python",
   "name": "python3"
  },
  "language_info": {
   "codemirror_mode": {
    "name": "ipython",
    "version": 3
   },
   "file_extension": ".py",
   "mimetype": "text/x-python",
   "name": "python",
   "nbconvert_exporter": "python",
   "pygments_lexer": "ipython3",
   "version": "3.8.20"
  }
 },
 "nbformat": 4,
 "nbformat_minor": 5
}
