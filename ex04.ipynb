{
 "cells": [
  {
   "cell_type": "markdown",
   "id": "d1c72775-c482-4479-943e-0091c89218a0",
   "metadata": {},
   "source": [
    "# Exercise 4: Backtest"
   ]
  },
  {
   "cell_type": "code",
   "execution_count": 2,
   "id": "fb53036d",
   "metadata": {},
   "outputs": [],
   "source": [
    "import pandas as pd\n",
    "import numpy as np\n",
    "import matplotlib.pyplot as plt\n",
    "import tabulate\n",
    "import jupyter as jp"
   ]
  },
  {
   "cell_type": "code",
   "execution_count": 3,
   "id": "b18f2347-2151-4e50-aee0-226da8a1ec76",
   "metadata": {},
   "outputs": [],
   "source": [
    "df = pd.read_csv(\"data/AAPL.csv\", header='infer', delimiter=',', index_col='Date', parse_dates=True)"
   ]
  },
  {
   "cell_type": "code",
   "execution_count": null,
   "id": "76466d3a",
   "metadata": {},
   "outputs": [],
   "source": [
    "df.info()"
   ]
  },
  {
   "cell_type": "code",
   "execution_count": null,
   "id": "f40146b8-0535-4d38-a63a-8bd36ef3ecac",
   "metadata": {},
   "outputs": [],
   "source": [
    "# 1. drop the missing values and compute the daily future return on the adjusted close price\n",
    "df.dropna(inplace=True)\n",
    "returns = (df['Adj Close'].shift(-1) - df['Adj Close']) / df['Adj Close']\n",
    "returns"
   ]
  },
  {
   "cell_type": "markdown",
   "id": "2cbf80e9",
   "metadata": {},
   "source": [
    "##### 2. Random bool series"
   ]
  },
  {
   "cell_type": "markdown",
   "id": "d9da8629",
   "metadata": {},
   "source": [
    "* The information is this series should be interpreted this way:\n",
    "\n",
    "    * On the 2010-01-01 I receive 1 before the market closes meaning that, if I trust the signal, the close price of day d+1 will increase. I should buy the stock before the market closes.\n",
    "    * On the 2010-01-02 I receive 0 before the market closes meaning that,, if I trust the signal, the close price of day d+1 will not increase. I should not buy the stock.\n"
   ]
  },
  {
   "cell_type": "code",
   "execution_count": null,
   "id": "a9c333e6",
   "metadata": {},
   "outputs": [],
   "source": [
    "random_booleans = np.random.randint(0,2,len(df.index))\n",
    "bool_serie = pd.Series(random_booleans, index=df.index,name=\"Signal\")\n",
    "bool_serie.head()"
   ]
  },
  {
   "cell_type": "markdown",
   "id": "09ef0343",
   "metadata": {},
   "source": [
    "##### 3. Signal backtesting"
   ]
  },
  {
   "cell_type": "code",
   "execution_count": null,
   "id": "c37d6808",
   "metadata": {},
   "outputs": [],
   "source": [
    "st = df.merge(bool_serie,left_index=True,right_index=True)\n",
    "# Calculate daily return: (Close_d+1 - Close_d) / Close_d\n",
    "st['Next_Close'] = st['Close'].shift(-1)\n",
    "st['Daily_Return'] = (st['Next_Close'] - st['Close']) / st['Close']\n",
    "st['PnL'] = st['Signal'] * st['Daily_Return'].fillna(0)\n",
    "\n",
    "strategy_return = st['PnL']\n",
    "print(strategy_return)"
   ]
  },
  {
   "cell_type": "markdown",
   "id": "393b09b2",
   "metadata": {},
   "source": [
    "##### 4. strategy processing"
   ]
  },
  {
   "cell_type": "code",
   "execution_count": 8,
   "id": "ed217a24",
   "metadata": {},
   "outputs": [],
   "source": [
    "total_earned = st['PnL'].sum()\n",
    "total_invested = st['Signal'].sum()\n",
    "\n",
    "# Calculate the return of the strategy\n",
    "strategy_return = (total_earned - total_invested) / total_invested if total_invested != 0 else 0"
   ]
  },
  {
   "cell_type": "code",
   "execution_count": null,
   "id": "ef7fabf4",
   "metadata": {},
   "outputs": [],
   "source": [
    "st['Signal_Q5'] = 1  # Always buy\n",
    "st['PnL_Q5'] = st['Signal_Q5'] * st['Daily_Return'].fillna(0)\n",
    "\n",
    "total_pnl_q3 = st['PnL'].sum()\n",
    "total_pnl_q5 = st['PnL_Q5'].sum()\n",
    "\n",
    "print(f\"Total PnL for Q3 strategy: {total_pnl_q3:.4f}\")\n",
    "print(f\"Total PnL for Q5 strategy: {total_pnl_q5:.4f}\")\n",
    "\n",
    "plt.figure(figsize=(10, 6))\n",
    "plt.plot(st.index, st['PnL_Q5'], label='Q5: Always Buy', marker='o', linestyle='--')\n",
    "plt.plot(st.index, st['PnL'], label='Q3: Signal Based', marker='x', linestyle='-')\n",
    "plt.title('Daily PnL for Q5 (Always Buy) vs Q3 (Signal Based)')\n",
    "plt.xlabel('Date')\n",
    "plt.ylabel('Daily PnL')\n",
    "plt.legend()\n",
    "plt.grid(True)\n",
    "plt.show()"
   ]
  }
 ],
 "metadata": {
  "kernelspec": {
   "display_name": "ex00",
   "language": "python",
   "name": "python3"
  },
  "language_info": {
   "codemirror_mode": {
    "name": "ipython",
    "version": 3
   },
   "file_extension": ".py",
   "mimetype": "text/x-python",
   "name": "python",
   "nbconvert_exporter": "python",
   "pygments_lexer": "ipython3",
   "version": "3.8.20"
  }
 },
 "nbformat": 4,
 "nbformat_minor": 5
}
