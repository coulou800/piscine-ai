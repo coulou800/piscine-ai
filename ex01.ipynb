{
 "cells": [
  {
   "cell_type": "code",
   "execution_count": 1,
   "id": "c71ab2a2-69d4-421a-833f-957b7690f959",
   "metadata": {},
   "outputs": [],
   "source": [
    "import pandas as pd\n",
    "import numpy as np\n",
    "import matplotlib.pyplot as plt\n",
    "import tabulate\n",
    "import jupyter as jp"
   ]
  },
  {
   "cell_type": "markdown",
   "id": "887c05e9-6078-4b7a-a0fb-0e2927e741f0",
   "metadata": {},
   "source": [
    "## Exercise 1: Series"
   ]
  },
  {
   "cell_type": "code",
   "execution_count": null,
   "id": "4a4a9adf-b6bc-4384-b4d3-6f68643e26cd",
   "metadata": {},
   "outputs": [],
   "source": [
    "# 1. create a series of integers for 1st january 2010 - 31 December 2020\n",
    "indexes = pd.date_range('2010-01-01', '2020-12-31')\n",
    "dates = pd.Series(range(len(indexes)), index=indexes)\n",
    "dates"
   ]
  },
  {
   "cell_type": "code",
   "execution_count": null,
   "id": "dc74dca8-3ef6-43ee-b0ed-503ebcee9a1f",
   "metadata": {},
   "outputs": [],
   "source": [
    "# 2. compute 7 days moving average without using a for loop\n",
    "dates.rolling(window=7).mean()"
   ]
  }
 ],
 "metadata": {
  "kernelspec": {
   "display_name": "ex00",
   "language": "python",
   "name": "python3"
  },
  "language_info": {
   "codemirror_mode": {
    "name": "ipython",
    "version": 3
   },
   "file_extension": ".py",
   "mimetype": "text/x-python",
   "name": "python",
   "nbconvert_exporter": "python",
   "pygments_lexer": "ipython3",
   "version": "3.8.20"
  }
 },
 "nbformat": 4,
 "nbformat_minor": 5
}
