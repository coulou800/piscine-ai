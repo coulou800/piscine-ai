{
 "cells": [
  {
   "cell_type": "markdown",
   "id": "5660ee1c-1ae4-4829-9d05-87410b193629",
   "metadata": {},
   "source": [
    "## Exercise 2: Financial data"
   ]
  },
  {
   "cell_type": "code",
   "execution_count": 13,
   "id": "c468b35c",
   "metadata": {},
   "outputs": [],
   "source": [
    "import pandas as pd\n",
    "import numpy as np\n",
    "import matplotlib.pyplot as plt\n",
    "import tabulate\n",
    "import jupyter as jp"
   ]
  },
  {
   "cell_type": "code",
   "execution_count": null,
   "id": "26d973b6-0aae-4f28-859a-5dac008ecdd2",
   "metadata": {},
   "outputs": [],
   "source": [
    "# 0. Load the data - setting the index to date and converting it to Datetimeindex\n",
    "df = pd.read_csv(\"data/AAPL.csv\", header='infer', delimiter=',', index_col='Date', parse_dates=True)\n",
    "df.head()"
   ]
  },
  {
   "cell_type": "markdown",
   "id": "14ba5fda-4185-4459-b1ba-491736f74c20",
   "metadata": {},
   "source": [
    "### 0. preprocessing the data"
   ]
  },
  {
   "cell_type": "code",
   "execution_count": null,
   "id": "efb36c7f-d215-4753-a37f-9d1db1aeee73",
   "metadata": {},
   "outputs": [],
   "source": [
    "# have a first look of the data\n",
    "df.describe()"
   ]
  },
  {
   "cell_type": "code",
   "execution_count": null,
   "id": "31556023-7a08-4fc1-bdf1-b48050dc9ec7",
   "metadata": {},
   "outputs": [],
   "source": [
    "# check the types of the data: see if there are some conversion to perform\n",
    "df.dtypes"
   ]
  },
  {
   "cell_type": "code",
   "execution_count": null,
   "id": "7b1dec94-748b-4bbc-b3ef-debee3de22ae",
   "metadata": {},
   "outputs": [],
   "source": [
    "# check for missing values\n",
    "df.isnull().sum()"
   ]
  },
  {
   "cell_type": "code",
   "execution_count": null,
   "id": "c07ae752-2481-4d9d-9a9c-e5c238d234d7",
   "metadata": {},
   "outputs": [],
   "source": [
    "# drop the null values\n",
    "df.dropna(inplace=True)\n",
    "df.isnull().sum()"
   ]
  },
  {
   "cell_type": "code",
   "execution_count": null,
   "id": "8d47ea17-ef76-4e49-8d0d-a2c1503b5641",
   "metadata": {},
   "outputs": [],
   "source": [
    "print(df.head().to_markdown())"
   ]
  },
  {
   "cell_type": "code",
   "execution_count": null,
   "id": "afd956c8-241a-4b20-b33a-18ec0bd44cee",
   "metadata": {},
   "outputs": [],
   "source": [
    "# 1. generate a candlestick chart based on the provided Apple stock data.\n",
    "import plotly.graph_objects as go\n",
    "fig = go.Figure(\n",
    "    data=[\n",
    "        go.Candlestick(\n",
    "            x=df.index,\n",
    "            open=df['Open'],\n",
    "            high=df['High'],\n",
    "            low=df['Low'],\n",
    "            close=df['Close']\n",
    "        )\n",
    "    ]\n",
    ")\n",
    "fig.update_layout(\n",
    "    height=400\n",
    ")\n",
    "fig.show()"
   ]
  },
  {
   "cell_type": "code",
   "execution_count": null,
   "id": "1458d41f-1170-4bcc-b496-1f1b4a0b802c",
   "metadata": {},
   "outputs": [],
   "source": [
    "# 2. Aggregate the data to last business of each month\n",
    "aggregation_funcs = {\n",
    "    'Open': 'mean',       # Average price for Open\n",
    "    'Close': 'mean',      # Average price for Close\n",
    "    'Volume': 'sum',       # Sum of the Volumes\n",
    "    'High': 'max',        # Max of the Highs\n",
    "    'Low': 'min',         # Min of the Lows\n",
    "    'Adj Close': 'mean',  # Average price for Adjusted Close\n",
    "    \n",
    "}\n",
    "\n",
    "# Resample on the last business day ('BM') and apply the aggregation functions\n",
    "result = df.resample('BM').agg(aggregation_funcs)\n",
    "result.head()"
   ]
  }
 ],
 "metadata": {
  "kernelspec": {
   "display_name": "ex00",
   "language": "python",
   "name": "python3"
  },
  "language_info": {
   "codemirror_mode": {
    "name": "ipython",
    "version": 3
   },
   "file_extension": ".py",
   "mimetype": "text/x-python",
   "name": "python",
   "nbconvert_exporter": "python",
   "pygments_lexer": "ipython3",
   "version": "3.8.20"
  }
 },
 "nbformat": 4,
 "nbformat_minor": 5
}
