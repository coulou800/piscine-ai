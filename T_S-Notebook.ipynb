{
 "cells": [
  {
   "cell_type": "code",
   "execution_count": 64,
   "id": "c71ab2a2-69d4-421a-833f-957b7690f959",
   "metadata": {},
   "outputs": [],
   "source": [
    "import pandas as pd\n",
    "import numpy as np\n",
    "import matplotlib.pyplot as plt\n",
    "import tabulate\n",
    "import jupyter as jp"
   ]
  },
  {
   "cell_type": "markdown",
   "id": "887c05e9-6078-4b7a-a0fb-0e2927e741f0",
   "metadata": {},
   "source": [
    "## Exercise 1: Series"
   ]
  },
  {
   "cell_type": "code",
   "execution_count": null,
   "id": "4a4a9adf-b6bc-4384-b4d3-6f68643e26cd",
   "metadata": {},
   "outputs": [],
   "source": [
    "# 1. create a series of integers for 1st january 2010 - 31 December 2020\n",
    "indexes = pd.date_range('2010-01-01', '2020-12-31')\n",
    "dates = pd.Series(range(len(indexes)), index=indexes)\n",
    "dates"
   ]
  },
  {
   "cell_type": "code",
   "execution_count": null,
   "id": "dc74dca8-3ef6-43ee-b0ed-503ebcee9a1f",
   "metadata": {},
   "outputs": [],
   "source": [
    "# 2. compute 7 days moving average without using a for loop\n",
    "dates.rolling(window=7).mean()"
   ]
  },
  {
   "cell_type": "markdown",
   "id": "5660ee1c-1ae4-4829-9d05-87410b193629",
   "metadata": {},
   "source": [
    "## Exercise 2: Financial data"
   ]
  },
  {
   "cell_type": "code",
   "execution_count": null,
   "id": "26d973b6-0aae-4f28-859a-5dac008ecdd2",
   "metadata": {},
   "outputs": [],
   "source": [
    "# 0. Load the data - setting the index to date and converting it to Datetimeindex\n",
    "df = pd.read_csv(\"data/AAPL.csv\", header='infer', delimiter=',', index_col='Date', parse_dates=True)\n",
    "df.head()"
   ]
  },
  {
   "cell_type": "markdown",
   "id": "14ba5fda-4185-4459-b1ba-491736f74c20",
   "metadata": {},
   "source": [
    "### 0. preprocessing the data"
   ]
  },
  {
   "cell_type": "code",
   "execution_count": null,
   "id": "efb36c7f-d215-4753-a37f-9d1db1aeee73",
   "metadata": {},
   "outputs": [],
   "source": [
    "# have a first look of the data\n",
    "df.describe()"
   ]
  },
  {
   "cell_type": "code",
   "execution_count": null,
   "id": "31556023-7a08-4fc1-bdf1-b48050dc9ec7",
   "metadata": {},
   "outputs": [],
   "source": [
    "# check the types of the data: see if there are some conversion to perform\n",
    "df.dtypes"
   ]
  },
  {
   "cell_type": "code",
   "execution_count": null,
   "id": "7b1dec94-748b-4bbc-b3ef-debee3de22ae",
   "metadata": {},
   "outputs": [],
   "source": [
    "# check for missing values\n",
    "df.isnull().sum()"
   ]
  },
  {
   "cell_type": "code",
   "execution_count": null,
   "id": "c07ae752-2481-4d9d-9a9c-e5c238d234d7",
   "metadata": {},
   "outputs": [],
   "source": [
    "# drop the null values\n",
    "df.dropna(inplace=True)\n",
    "df.isnull().sum()"
   ]
  },
  {
   "cell_type": "code",
   "execution_count": null,
   "id": "8d47ea17-ef76-4e49-8d0d-a2c1503b5641",
   "metadata": {},
   "outputs": [],
   "source": [
    "print(df.head().to_markdown())"
   ]
  },
  {
   "cell_type": "code",
   "execution_count": null,
   "id": "afd956c8-241a-4b20-b33a-18ec0bd44cee",
   "metadata": {},
   "outputs": [],
   "source": [
    "# 1. generate a candlestick chart based on the provided Apple stock data.\n",
    "import plotly.graph_objects as go\n",
    "fig = go.Figure(\n",
    "    data=[\n",
    "        go.Candlestick(\n",
    "            x=df.index,\n",
    "            open=df['Open'],\n",
    "            high=df['High'],\n",
    "            low=df['Low'],\n",
    "            close=df['Close']\n",
    "        )\n",
    "    ]\n",
    ")\n",
    "fig.update_layout(\n",
    "    height=400\n",
    ")\n",
    "fig.show()"
   ]
  },
  {
   "cell_type": "code",
   "execution_count": null,
   "id": "1458d41f-1170-4bcc-b496-1f1b4a0b802c",
   "metadata": {},
   "outputs": [],
   "source": [
    "# 2. Aggregate the data to last business of each month\n",
    "aggregation_funcs = {\n",
    "    'Open': 'mean',       # Average price for Open\n",
    "    'Close': 'mean',      # Average price for Close\n",
    "    'Volume': 'sum',       # Sum of the Volumes\n",
    "    'High': 'max',        # Max of the Highs\n",
    "    'Low': 'min',         # Min of the Lows\n",
    "    'Adj Close': 'mean',  # Average price for Adjusted Close\n",
    "    \n",
    "}\n",
    "\n",
    "# Resample on the last business day ('BM') and apply the aggregation functions\n",
    "result = df.resample('BM').agg(aggregation_funcs)\n",
    "result.head()"
   ]
  },
  {
   "cell_type": "code",
   "execution_count": null,
   "id": "f4988b10-f4b5-4e25-b778-15b73493e7ec",
   "metadata": {},
   "outputs": [],
   "source": [
    "# 3. Compute daily returns based on the Open price without using a for loop.\n",
    "result = (df['Open'] - df['Open'].shift(1)) / df['Open'].shift(1)\n",
    "\n",
    "print(result)"
   ]
  },
  {
   "cell_type": "markdown",
   "id": "1f488514-c2f4-41c7-ae46-bea7ad6de994",
   "metadata": {},
   "source": [
    "## Exercise 3: Multi asset returns"
   ]
  },
  {
   "cell_type": "code",
   "execution_count": 76,
   "id": "d9f70df3-89c7-4e6c-b5b0-bef8dfe92d5b",
   "metadata": {},
   "outputs": [],
   "source": [
    "business_dates = pd.bdate_range('2021-01-01', '2021-12-31')\n",
    "\n",
    "#generate tickers\n",
    "tickers = ['AAPL', 'FB', 'GE', 'AMZN', 'DAI']\n",
    "\n",
    "#create indexs\n",
    "index = pd.MultiIndex.from_product([business_dates, tickers], names=['Date', 'Ticker'])\n",
    "\n",
    "# create DFs\n",
    "market_data = pd.DataFrame(index=index,\n",
    "                        data=np.random.randn(len(index), 1),\n",
    "                        columns=['Price'])\n"
   ]
  },
  {
   "cell_type": "code",
   "execution_count": null,
   "id": "03888c73-5e35-459b-a472-60fc093d610f",
   "metadata": {},
   "outputs": [],
   "source": [
    "# 1. compute the daily returns (return(d) = (price(d)-price(d-1))/price(d-1)) for all the companies and returns a DataFrame as\n",
    "market_data.pivot_table(values=\"Price\", index=\"Date\", columns=\"Ticker\").pct_change()\n",
    "market_data.head()"
   ]
  },
  {
   "cell_type": "markdown",
   "id": "d1c72775-c482-4479-943e-0091c89218a0",
   "metadata": {},
   "source": [
    "# Exercise 4: Backtest"
   ]
  },
  {
   "cell_type": "code",
   "execution_count": 57,
   "id": "b18f2347-2151-4e50-aee0-226da8a1ec76",
   "metadata": {},
   "outputs": [],
   "source": [
    "df = pd.read_csv(\"data/AAPL.csv\", header='infer', delimiter=',', index_col='Date', parse_dates=True)"
   ]
  },
  {
   "cell_type": "code",
   "execution_count": null,
   "id": "76466d3a",
   "metadata": {},
   "outputs": [],
   "source": [
    "df.info()"
   ]
  },
  {
   "cell_type": "code",
   "execution_count": null,
   "id": "f40146b8-0535-4d38-a63a-8bd36ef3ecac",
   "metadata": {},
   "outputs": [],
   "source": [
    "# 1. drop the missing values and compute the daily future return on the adjusted close price\n",
    "df.dropna(inplace=True)\n",
    "returns = (df['Adj Close'].shift(-1) - df['Adj Close']) / df['Adj Close']\n",
    "returns"
   ]
  },
  {
   "cell_type": "markdown",
   "id": "2cbf80e9",
   "metadata": {},
   "source": [
    "##### 2. Random bool series"
   ]
  },
  {
   "cell_type": "markdown",
   "id": "d9da8629",
   "metadata": {},
   "source": [
    "* The information is this series should be interpreted this way:\n",
    "\n",
    "    * On the 2010-01-01 I receive 1 before the market closes meaning that, if I trust the signal, the close price of day d+1 will increase. I should buy the stock before the market closes.\n",
    "    * On the 2010-01-02 I receive 0 before the market closes meaning that,, if I trust the signal, the close price of day d+1 will not increase. I should not buy the stock.\n"
   ]
  },
  {
   "cell_type": "code",
   "execution_count": null,
   "id": "a9c333e6",
   "metadata": {},
   "outputs": [],
   "source": [
    "random_booleans = np.random.randint(0,2,len(df.index))\n",
    "bool_serie = pd.Series(random_booleans, index=df.index,name=\"Signal\")\n",
    "bool_serie.head()"
   ]
  },
  {
   "cell_type": "markdown",
   "id": "09ef0343",
   "metadata": {},
   "source": [
    "##### 3. Signal backtesting"
   ]
  },
  {
   "cell_type": "code",
   "execution_count": null,
   "id": "c37d6808",
   "metadata": {},
   "outputs": [],
   "source": [
    "st = df.merge(bool_serie,left_index=True,right_index=True)\n",
    "# Calculate daily return: (Close_d+1 - Close_d) / Close_d\n",
    "st['Next_Close'] = st['Close'].shift(-1)\n",
    "st['Daily_Return'] = (st['Next_Close'] - st['Close']) / st['Close']\n",
    "st['PnL'] = st['Signal'] * st['Daily_Return'].fillna(0)\n",
    "\n",
    "strategy_return = st['PnL']\n",
    "print(strategy_return)"
   ]
  },
  {
   "cell_type": "markdown",
   "id": "393b09b2",
   "metadata": {},
   "source": [
    "##### 4. strategy processing"
   ]
  },
  {
   "cell_type": "code",
   "execution_count": 62,
   "id": "ed217a24",
   "metadata": {},
   "outputs": [],
   "source": [
    "total_earned = st['PnL'].sum()\n",
    "total_invested = st['Signal'].sum()\n",
    "\n",
    "# Calculate the return of the strategy\n",
    "strategy_return = (total_earned - total_invested) / total_invested if total_invested != 0 else 0"
   ]
  },
  {
   "cell_type": "code",
   "execution_count": null,
   "id": "ef7fabf4",
   "metadata": {},
   "outputs": [],
   "source": [
    "st['Signal_Q5'] = 1  # Always buy\n",
    "st['PnL_Q5'] = st['Signal_Q5'] * st['Daily_Return'].fillna(0)\n",
    "\n",
    "total_pnl_q3 = st['PnL'].sum()\n",
    "total_pnl_q5 = st['PnL_Q5'].sum()\n",
    "\n",
    "print(f\"Total PnL for Q3 strategy: {total_pnl_q3:.4f}\")\n",
    "print(f\"Total PnL for Q5 strategy: {total_pnl_q5:.4f}\")\n",
    "\n",
    "plt.figure(figsize=(10, 6))\n",
    "plt.plot(st.index, st['PnL_Q5'], label='Q5: Always Buy', marker='o', linestyle='--')\n",
    "plt.plot(st.index, st['PnL'], label='Q3: Signal Based', marker='x', linestyle='-')\n",
    "plt.title('Daily PnL for Q5 (Always Buy) vs Q3 (Signal Based)')\n",
    "plt.xlabel('Date')\n",
    "plt.ylabel('Daily PnL')\n",
    "plt.legend()\n",
    "plt.grid(True)\n",
    "plt.show()"
   ]
  }
 ],
 "metadata": {
  "kernelspec": {
   "display_name": "ex00",
   "language": "python",
   "name": "python3"
  },
  "language_info": {
   "codemirror_mode": {
    "name": "ipython",
    "version": 3
   },
   "file_extension": ".py",
   "mimetype": "text/x-python",
   "name": "python",
   "nbconvert_exporter": "python",
   "pygments_lexer": "ipython3",
   "version": "3.8.20"
  }
 },
 "nbformat": 4,
 "nbformat_minor": 5
}
