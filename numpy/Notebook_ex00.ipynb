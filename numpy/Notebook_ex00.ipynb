{
 "cells": [
  {
   "cell_type": "markdown",
   "metadata": {},
   "source": [
    "### Exercise 0: Environment and libraries"
   ]
  },
  {
   "cell_type": "raw",
   "metadata": {},
   "source": [
    "# H1 TITLE\n",
    "## H2 TITLE"
   ]
  },
  {
   "cell_type": "code",
   "execution_count": 1,
   "metadata": {},
   "outputs": [
    {
     "name": "stdout",
     "output_type": "stream",
     "text": [
      "Buy the dip ?\n"
     ]
    }
   ],
   "source": [
    "print(\"Buy the dip ?\")"
   ]
  },
  {
   "cell_type": "markdown",
   "metadata": {},
   "source": [
    "### Exercise 1: Your first NumPy array"
   ]
  },
  {
   "cell_type": "markdown",
   "metadata": {},
   "source": [
    "1. import numpy"
   ]
  },
  {
   "cell_type": "code",
   "execution_count": 2,
   "metadata": {},
   "outputs": [],
   "source": [
    "import numpy as np"
   ]
  },
  {
   "cell_type": "markdown",
   "metadata": {},
   "source": [
    "2. create an array with numpy (important: add ```dtype=object``` for an array with differents data types) "
   ]
  },
  {
   "cell_type": "code",
   "execution_count": 3,
   "metadata": {},
   "outputs": [],
   "source": [
    "arr = np.array([5, 0.5, \"5\", {\"value\":5}, [1,2,3,4,5], (1,2,3,4,5), {1,2,3,4,5},True],dtype=object)"
   ]
  },
  {
   "cell_type": "markdown",
   "metadata": {},
   "source": [
    "3. Prnt data type of each value in arr"
   ]
  },
  {
   "cell_type": "code",
   "execution_count": 4,
   "metadata": {},
   "outputs": [
    {
     "name": "stdout",
     "output_type": "stream",
     "text": [
      "<class 'int'>\n",
      "<class 'float'>\n",
      "<class 'str'>\n",
      "<class 'dict'>\n",
      "<class 'list'>\n",
      "<class 'tuple'>\n",
      "<class 'set'>\n",
      "<class 'bool'>\n"
     ]
    }
   ],
   "source": [
    "for i in arr:\n",
    "    print(type(i))\n"
   ]
  },
  {
   "cell_type": "markdown",
   "metadata": {},
   "source": [
    "### Exercise 2: Zeros"
   ]
  },
  {
   "cell_type": "markdown",
   "metadata": {},
   "source": [
    "1. Create a NumPy array of dimension 300 with zeros without filling it manually"
   ]
  },
  {
   "cell_type": "code",
   "execution_count": 5,
   "metadata": {},
   "outputs": [
    {
     "data": {
      "text/plain": [
       "array([0., 0., 0., 0., 0., 0., 0., 0., 0., 0., 0., 0., 0., 0., 0., 0., 0.,\n",
       "       0., 0., 0., 0., 0., 0., 0., 0., 0., 0., 0., 0., 0., 0., 0., 0., 0.,\n",
       "       0., 0., 0., 0., 0., 0., 0., 0., 0., 0., 0., 0., 0., 0., 0., 0., 0.,\n",
       "       0., 0., 0., 0., 0., 0., 0., 0., 0., 0., 0., 0., 0., 0., 0., 0., 0.,\n",
       "       0., 0., 0., 0., 0., 0., 0., 0., 0., 0., 0., 0., 0., 0., 0., 0., 0.,\n",
       "       0., 0., 0., 0., 0., 0., 0., 0., 0., 0., 0., 0., 0., 0., 0., 0., 0.,\n",
       "       0., 0., 0., 0., 0., 0., 0., 0., 0., 0., 0., 0., 0., 0., 0., 0., 0.,\n",
       "       0., 0., 0., 0., 0., 0., 0., 0., 0., 0., 0., 0., 0., 0., 0., 0., 0.,\n",
       "       0., 0., 0., 0., 0., 0., 0., 0., 0., 0., 0., 0., 0., 0., 0., 0., 0.,\n",
       "       0., 0., 0., 0., 0., 0., 0., 0., 0., 0., 0., 0., 0., 0., 0., 0., 0.,\n",
       "       0., 0., 0., 0., 0., 0., 0., 0., 0., 0., 0., 0., 0., 0., 0., 0., 0.,\n",
       "       0., 0., 0., 0., 0., 0., 0., 0., 0., 0., 0., 0., 0., 0., 0., 0., 0.,\n",
       "       0., 0., 0., 0., 0., 0., 0., 0., 0., 0., 0., 0., 0., 0., 0., 0., 0.,\n",
       "       0., 0., 0., 0., 0., 0., 0., 0., 0., 0., 0., 0., 0., 0., 0., 0., 0.,\n",
       "       0., 0., 0., 0., 0., 0., 0., 0., 0., 0., 0., 0., 0., 0., 0., 0., 0.,\n",
       "       0., 0., 0., 0., 0., 0., 0., 0., 0., 0., 0., 0., 0., 0., 0., 0., 0.,\n",
       "       0., 0., 0., 0., 0., 0., 0., 0., 0., 0., 0., 0., 0., 0., 0., 0., 0.,\n",
       "       0., 0., 0., 0., 0., 0., 0., 0., 0., 0., 0.])"
      ]
     },
     "execution_count": 5,
     "metadata": {},
     "output_type": "execute_result"
    }
   ],
   "source": [
    "arr = np.zeros(300)\n",
    "arr"
   ]
  },
  {
   "cell_type": "markdown",
   "metadata": {},
   "source": [
    "2. Reshape it to (3,100)\n",
    "- this mean convert the array `arr` to a 3d array contain"
   ]
  },
  {
   "cell_type": "code",
   "execution_count": 6,
   "metadata": {},
   "outputs": [
    {
     "data": {
      "text/plain": [
       "array([[0., 0., 0., 0., 0., 0., 0., 0., 0., 0., 0., 0., 0., 0., 0., 0.,\n",
       "        0., 0., 0., 0., 0., 0., 0., 0., 0., 0., 0., 0., 0., 0., 0., 0.,\n",
       "        0., 0., 0., 0., 0., 0., 0., 0., 0., 0., 0., 0., 0., 0., 0., 0.,\n",
       "        0., 0., 0., 0., 0., 0., 0., 0., 0., 0., 0., 0., 0., 0., 0., 0.,\n",
       "        0., 0., 0., 0., 0., 0., 0., 0., 0., 0., 0., 0., 0., 0., 0., 0.,\n",
       "        0., 0., 0., 0., 0., 0., 0., 0., 0., 0., 0., 0., 0., 0., 0., 0.,\n",
       "        0., 0., 0., 0.],\n",
       "       [0., 0., 0., 0., 0., 0., 0., 0., 0., 0., 0., 0., 0., 0., 0., 0.,\n",
       "        0., 0., 0., 0., 0., 0., 0., 0., 0., 0., 0., 0., 0., 0., 0., 0.,\n",
       "        0., 0., 0., 0., 0., 0., 0., 0., 0., 0., 0., 0., 0., 0., 0., 0.,\n",
       "        0., 0., 0., 0., 0., 0., 0., 0., 0., 0., 0., 0., 0., 0., 0., 0.,\n",
       "        0., 0., 0., 0., 0., 0., 0., 0., 0., 0., 0., 0., 0., 0., 0., 0.,\n",
       "        0., 0., 0., 0., 0., 0., 0., 0., 0., 0., 0., 0., 0., 0., 0., 0.,\n",
       "        0., 0., 0., 0.],\n",
       "       [0., 0., 0., 0., 0., 0., 0., 0., 0., 0., 0., 0., 0., 0., 0., 0.,\n",
       "        0., 0., 0., 0., 0., 0., 0., 0., 0., 0., 0., 0., 0., 0., 0., 0.,\n",
       "        0., 0., 0., 0., 0., 0., 0., 0., 0., 0., 0., 0., 0., 0., 0., 0.,\n",
       "        0., 0., 0., 0., 0., 0., 0., 0., 0., 0., 0., 0., 0., 0., 0., 0.,\n",
       "        0., 0., 0., 0., 0., 0., 0., 0., 0., 0., 0., 0., 0., 0., 0., 0.,\n",
       "        0., 0., 0., 0., 0., 0., 0., 0., 0., 0., 0., 0., 0., 0., 0., 0.,\n",
       "        0., 0., 0., 0.]])"
      ]
     },
     "execution_count": 6,
     "metadata": {},
     "output_type": "execute_result"
    }
   ],
   "source": [
    "reshapearr =arr.reshape(3,100)\n",
    "reshapearr"
   ]
  },
  {
   "cell_type": "markdown",
   "metadata": {},
   "source": [
    "### Exercise 3: Slicing"
   ]
  },
  {
   "cell_type": "markdown",
   "metadata": {},
   "source": [
    "1. Create a NumPy array of dimension 1 that contains all integers from 1 to 100 ordered."
   ]
  },
  {
   "cell_type": "code",
   "execution_count": 7,
   "metadata": {},
   "outputs": [
    {
     "data": {
      "text/plain": [
       "array([  1,   2,   3,   4,   5,   6,   7,   8,   9,  10,  11,  12,  13,\n",
       "        14,  15,  16,  17,  18,  19,  20,  21,  22,  23,  24,  25,  26,\n",
       "        27,  28,  29,  30,  31,  32,  33,  34,  35,  36,  37,  38,  39,\n",
       "        40,  41,  42,  43,  44,  45,  46,  47,  48,  49,  50,  51,  52,\n",
       "        53,  54,  55,  56,  57,  58,  59,  60,  61,  62,  63,  64,  65,\n",
       "        66,  67,  68,  69,  70,  71,  72,  73,  74,  75,  76,  77,  78,\n",
       "        79,  80,  81,  82,  83,  84,  85,  86,  87,  88,  89,  90,  91,\n",
       "        92,  93,  94,  95,  96,  97,  98,  99, 100])"
      ]
     },
     "execution_count": 7,
     "metadata": {},
     "output_type": "execute_result"
    }
   ],
   "source": [
    "arr = np.arange(1,101)\n",
    "arr"
   ]
  },
  {
   "cell_type": "markdown",
   "metadata": {},
   "source": [
    "2. Without using a for loop and using the array created in Q1, create an array that contain all odd integers. The expected output is:"
   ]
  },
  {
   "cell_type": "code",
   "execution_count": 8,
   "metadata": {},
   "outputs": [
    {
     "data": {
      "text/plain": [
       "array([ 1,  3,  5,  7,  9, 11, 13, 15, 17, 19, 21, 23, 25, 27, 29, 31, 33,\n",
       "       35, 37, 39, 41, 43, 45, 47, 49, 51, 53, 55, 57, 59, 61, 63, 65, 67,\n",
       "       69, 71, 73, 75, 77, 79, 81, 83, 85, 87, 89, 91, 93, 95, 97, 99])"
      ]
     },
     "execution_count": 8,
     "metadata": {},
     "output_type": "execute_result"
    }
   ],
   "source": [
    "oddarr = arr[arr%2!=0]\n",
    "oddarr"
   ]
  },
  {
   "cell_type": "markdown",
   "metadata": {},
   "source": [
    "3. Without using a for loop and using the array created in Q1, create an array that contain all even integers reversed. The expected output is:"
   ]
  },
  {
   "cell_type": "code",
   "execution_count": 9,
   "metadata": {},
   "outputs": [
    {
     "data": {
      "text/plain": [
       "array([100,  98,  96,  94,  92,  90,  88,  86,  84,  82,  80,  78,  76,\n",
       "        74,  72,  70,  68,  66,  64,  62,  60,  58,  56,  54,  52,  50,\n",
       "        48,  46,  44,  42,  40,  38,  36,  34,  32,  30,  28,  26,  24,\n",
       "        22,  20,  18,  16,  14,  12,  10,   8,   6,   4,   2])"
      ]
     },
     "execution_count": 9,
     "metadata": {},
     "output_type": "execute_result"
    }
   ],
   "source": [
    "evenRevArr = np.flip(arr[arr%2==0])\n",
    "evenRevArr"
   ]
  },
  {
   "cell_type": "markdown",
   "metadata": {},
   "source": [
    "4. Using array of Q1, set the value of every 3 elements of the list (starting with the second) to 0. The expected output is:\n"
   ]
  },
  {
   "cell_type": "code",
   "execution_count": 10,
   "metadata": {},
   "outputs": [
    {
     "data": {
      "text/plain": [
       "array([  1,   0,   3,   4,   0,   6,   7,   0,   9,  10,   0,  12,  13,\n",
       "         0,  15,  16,   0,  18,  19,   0,  21,  22,   0,  24,  25,   0,\n",
       "        27,  28,   0,  30,  31,   0,  33,  34,   0,  36,  37,   0,  39,\n",
       "        40,   0,  42,  43,   0,  45,  46,   0,  48,  49,   0,  51,  52,\n",
       "         0,  54,  55,   0,  57,  58,   0,  60,  61,   0,  63,  64,   0,\n",
       "        66,  67,   0,  69,  70,   0,  72,  73,   0,  75,  76,   0,  78,\n",
       "        79,   0,  81,  82,   0,  84,  85,   0,  87,  88,   0,  90,  91,\n",
       "         0,  93,  94,   0,  96,  97,   0,  99, 100])"
      ]
     },
     "execution_count": 10,
     "metadata": {},
     "output_type": "execute_result"
    }
   ],
   "source": [
    "arr[1::3] = 0\n",
    "arr"
   ]
  },
  {
   "cell_type": "markdown",
   "metadata": {},
   "source": [
    "### Exercise 4: Random"
   ]
  },
  {
   "cell_type": "markdown",
   "metadata": {},
   "source": [
    "1. Set the seed to 888"
   ]
  },
  {
   "cell_type": "code",
   "execution_count": 11,
   "metadata": {},
   "outputs": [],
   "source": [
    "np.random.seed(888)"
   ]
  },
  {
   "cell_type": "markdown",
   "metadata": {},
   "source": [
    "2. Generate a one-dimensional array of size 100 with a normal distribution"
   ]
  },
  {
   "cell_type": "code",
   "execution_count": 12,
   "metadata": {},
   "outputs": [
    {
     "data": {
      "text/plain": [
       "array([-1.76200874e-01,  1.88876361e-01,  8.26747180e-01, -3.24473146e-02,\n",
       "       -6.52499418e-01, -1.05339382e-01,  2.17776116e-01,  5.87281504e-01,\n",
       "        1.00237892e-01, -1.09994668e+00, -2.55305389e-01,  4.05304381e-01,\n",
       "        1.62663953e-01,  1.04163462e+00,  2.24324184e-01,  6.99304449e-01,\n",
       "       -8.65543512e-01, -1.39346831e+00, -2.36687913e-01, -7.57041911e-01,\n",
       "        1.31429195e+00, -9.77385899e-01, -3.59032576e-01,  1.16141585e-01,\n",
       "       -3.51081138e-01, -4.39838344e-01, -4.90995473e-02, -4.31596770e-01,\n",
       "       -1.08875099e+00, -2.31088106e+00, -1.86236420e+00,  2.34708674e-01,\n",
       "       -8.95585921e-01, -5.40834525e-01, -4.02399061e-01,  2.31458561e-02,\n",
       "        1.77688506e-01, -5.73309272e-01, -3.38392138e-01, -2.64422114e-03,\n",
       "        1.44930339e+00,  1.36605641e+00,  2.69187461e+00,  6.76065035e-01,\n",
       "       -1.06098418e+00,  1.31845313e-01,  1.71934297e-01,  8.88062794e-02,\n",
       "        1.03963016e+00, -1.37846942e-01, -3.69232844e-01,  3.19587912e+00,\n",
       "        1.11457451e+00, -2.59516296e-01,  1.48370897e+00, -1.57049065e+00,\n",
       "        9.78899330e-01,  1.76070681e+00,  3.53121953e-01, -3.08510762e-01,\n",
       "       -1.40481067e+00, -6.54547811e-01, -1.37791290e+00, -2.42605914e-01,\n",
       "       -1.17542916e+00,  6.96400848e-01,  2.84105779e-01, -1.01948195e+00,\n",
       "        1.09675079e+00,  2.41646711e-01, -3.67039678e-01, -2.19894776e+00,\n",
       "        1.41872937e+00,  2.20794136e-01,  7.92524915e-01, -2.23775806e-01,\n",
       "       -6.96694068e-01, -9.17717925e-01, -1.47199487e+00,  1.87770559e+00,\n",
       "        1.51033108e+00,  1.18732817e-01,  6.50728248e-01, -7.07655562e-01,\n",
       "        1.69862924e+00,  1.34663117e+00,  5.26657670e-01, -6.13561456e-01,\n",
       "       -1.79179012e-01, -1.28634991e+00,  1.41675325e+00, -1.81351151e-01,\n",
       "       -1.02037575e-01, -6.03250569e-01,  1.20489600e+00,  9.62265746e-01,\n",
       "        8.61170433e-01,  1.96244237e+00, -1.15548773e+00,  3.45259423e-01])"
      ]
     },
     "execution_count": 12,
     "metadata": {},
     "output_type": "execute_result"
    }
   ],
   "source": [
    "randArr = np.random.randn(100)\n",
    "randArr"
   ]
  },
  {
   "cell_type": "markdown",
   "metadata": {},
   "source": [
    "3. Generate a two-dimensional array of size 8,8 with random integers from 1 to 10 - both included (same probability for each integer)"
   ]
  },
  {
   "cell_type": "code",
   "execution_count": 13,
   "metadata": {},
   "outputs": [
    {
     "data": {
      "text/plain": [
       "array([[ 9,  8,  4,  6,  9,  1,  3,  2],\n",
       "       [ 3,  9,  9,  5,  4,  7,  2,  8],\n",
       "       [ 5,  6,  9,  1,  1,  6,  8,  7],\n",
       "       [ 7,  1,  4,  1, 10,  4,  3,  5],\n",
       "       [ 5, 10,  1, 10,  7, 10,  6,  1],\n",
       "       [ 6,  8,  7,  4,  6, 10,  3,  5],\n",
       "       [ 4, 10,  7,  9,  9, 10,  9,  9],\n",
       "       [ 5,  3,  2, 10,  8,  5,  5,  3]])"
      ]
     },
     "execution_count": 13,
     "metadata": {},
     "output_type": "execute_result"
    }
   ],
   "source": [
    "rand2dArr = np.random.randint(1,11,size=(8,8))\n",
    "rand2dArr"
   ]
  },
  {
   "cell_type": "markdown",
   "metadata": {},
   "source": [
    "4. Generate a three-dimensional of size 4,2,5 array with random integers from 1 to 17 - both included (same probability for each integer)"
   ]
  },
  {
   "cell_type": "code",
   "execution_count": 14,
   "metadata": {},
   "outputs": [
    {
     "data": {
      "text/plain": [
       "array([[[ 5,  2, 13, 16, 15],\n",
       "        [ 5,  5,  2, 11,  3]],\n",
       "\n",
       "       [[ 8, 13,  6,  4, 17],\n",
       "        [ 2,  8,  1, 13, 10]],\n",
       "\n",
       "       [[12, 17, 17, 12,  1],\n",
       "        [10,  8, 17,  5, 11]],\n",
       "\n",
       "       [[ 9, 14,  2, 15, 13],\n",
       "        [12, 14,  6, 14,  2]]])"
      ]
     },
     "execution_count": 14,
     "metadata": {},
     "output_type": "execute_result"
    }
   ],
   "source": [
    "rand3dArr = np.random.randint(1,high=18,size=(4,2,5))\n",
    "rand3dArr\n"
   ]
  },
  {
   "cell_type": "markdown",
   "metadata": {},
   "source": [
    "### Exercise 5: Split, concatenate, reshape arrays"
   ]
  },
  {
   "cell_type": "markdown",
   "metadata": {},
   "source": [
    "1. Generate an array with integers from 1 to 50: array([1,...,50])"
   ]
  },
  {
   "cell_type": "code",
   "execution_count": 15,
   "metadata": {},
   "outputs": [
    {
     "data": {
      "text/plain": [
       "array([ 1,  2,  3,  4,  5,  6,  7,  8,  9, 10, 11, 12, 13, 14, 15, 16, 17,\n",
       "       18, 19, 20, 21, 22, 23, 24, 25, 26, 27, 28, 29, 30, 31, 32, 33, 34,\n",
       "       35, 36, 37, 38, 39, 40, 41, 42, 43, 44, 45, 46, 47, 48, 49, 50])"
      ]
     },
     "execution_count": 15,
     "metadata": {},
     "output_type": "execute_result"
    }
   ],
   "source": [
    "arr50 = np.arange(1,51)\n",
    "arr50"
   ]
  },
  {
   "cell_type": "markdown",
   "metadata": {},
   "source": [
    "2. Generate an array with integers from 51 to 100: array([51,...,100])"
   ]
  },
  {
   "cell_type": "code",
   "execution_count": 16,
   "metadata": {},
   "outputs": [
    {
     "data": {
      "text/plain": [
       "array([  1,   0,   3,   4,   0,   6,   7,   0,   9,  10,   0,  12,  13,\n",
       "         0,  15,  16,   0,  18,  19,   0,  21,  22,   0,  24,  25,   0,\n",
       "        27,  28,   0,  30,  31,   0,  33,  34,   0,  36,  37,   0,  39,\n",
       "        40,   0,  42,  43,   0,  45,  46,   0,  48,  49,   0,  51,  52,\n",
       "         0,  54,  55,   0,  57,  58,   0,  60,  61,   0,  63,  64,   0,\n",
       "        66,  67,   0,  69,  70,   0,  72,  73,   0,  75,  76,   0,  78,\n",
       "        79,   0,  81,  82,   0,  84,  85,   0,  87,  88,   0,  90,  91,\n",
       "         0,  93,  94,   0,  96,  97,   0,  99, 100])"
      ]
     },
     "execution_count": 16,
     "metadata": {},
     "output_type": "execute_result"
    }
   ],
   "source": [
    "arr100 = np.arange(51,101)\n",
    "arr"
   ]
  },
  {
   "cell_type": "markdown",
   "metadata": {},
   "source": [
    "3. Using np.concatenate, concatenate the two arrays into: array([1,...,100])"
   ]
  },
  {
   "cell_type": "code",
   "execution_count": 17,
   "metadata": {},
   "outputs": [
    {
     "data": {
      "text/plain": [
       "array([  1,   2,   3,   4,   5,   6,   7,   8,   9,  10,  11,  12,  13,\n",
       "        14,  15,  16,  17,  18,  19,  20,  21,  22,  23,  24,  25,  26,\n",
       "        27,  28,  29,  30,  31,  32,  33,  34,  35,  36,  37,  38,  39,\n",
       "        40,  41,  42,  43,  44,  45,  46,  47,  48,  49,  50,  51,  52,\n",
       "        53,  54,  55,  56,  57,  58,  59,  60,  61,  62,  63,  64,  65,\n",
       "        66,  67,  68,  69,  70,  71,  72,  73,  74,  75,  76,  77,  78,\n",
       "        79,  80,  81,  82,  83,  84,  85,  86,  87,  88,  89,  90,  91,\n",
       "        92,  93,  94,  95,  96,  97,  98,  99, 100])"
      ]
     },
     "execution_count": 17,
     "metadata": {},
     "output_type": "execute_result"
    }
   ],
   "source": [
    "concatarr = np.concatenate((arr50,arr100))\n",
    "concatarr"
   ]
  },
  {
   "cell_type": "markdown",
   "metadata": {},
   "source": [
    "4. Reshape the previous array into:"
   ]
  },
  {
   "cell_type": "code",
   "execution_count": 18,
   "metadata": {},
   "outputs": [
    {
     "data": {
      "text/plain": [
       "array([[  1,   2,   3,   4,   5,   6,   7,   8,   9,  10],\n",
       "       [ 11,  12,  13,  14,  15,  16,  17,  18,  19,  20],\n",
       "       [ 21,  22,  23,  24,  25,  26,  27,  28,  29,  30],\n",
       "       [ 31,  32,  33,  34,  35,  36,  37,  38,  39,  40],\n",
       "       [ 41,  42,  43,  44,  45,  46,  47,  48,  49,  50],\n",
       "       [ 51,  52,  53,  54,  55,  56,  57,  58,  59,  60],\n",
       "       [ 61,  62,  63,  64,  65,  66,  67,  68,  69,  70],\n",
       "       [ 71,  72,  73,  74,  75,  76,  77,  78,  79,  80],\n",
       "       [ 81,  82,  83,  84,  85,  86,  87,  88,  89,  90],\n",
       "       [ 91,  92,  93,  94,  95,  96,  97,  98,  99, 100]])"
      ]
     },
     "execution_count": 18,
     "metadata": {},
     "output_type": "execute_result"
    }
   ],
   "source": [
    "concatarr.reshape(10,10)"
   ]
  },
  {
   "cell_type": "markdown",
   "metadata": {},
   "source": [
    "### Exercise 6: Broadcasting and Slicing"
   ]
  },
  {
   "cell_type": "markdown",
   "metadata": {},
   "source": [
    "* Generate a 2-dimensional array of size 9x9, with all elements initialized to 1 and of type int8."
   ]
  },
  {
   "cell_type": "code",
   "execution_count": 19,
   "metadata": {},
   "outputs": [
    {
     "data": {
      "text/plain": [
       "array([[1., 1., 1., 1., 1., 1., 1., 1., 1.],\n",
       "       [1., 1., 1., 1., 1., 1., 1., 1., 1.],\n",
       "       [1., 1., 1., 1., 1., 1., 1., 1., 1.],\n",
       "       [1., 1., 1., 1., 1., 1., 1., 1., 1.],\n",
       "       [1., 1., 1., 1., 1., 1., 1., 1., 1.],\n",
       "       [1., 1., 1., 1., 1., 1., 1., 1., 1.],\n",
       "       [1., 1., 1., 1., 1., 1., 1., 1., 1.],\n",
       "       [1., 1., 1., 1., 1., 1., 1., 1., 1.],\n",
       "       [1., 1., 1., 1., 1., 1., 1., 1., 1.]])"
      ]
     },
     "execution_count": 19,
     "metadata": {},
     "output_type": "execute_result"
    }
   ],
   "source": [
    "arr_ones = np.ones((9,9))\n",
    "arr_ones"
   ]
  },
  {
   "cell_type": "markdown",
   "metadata": {},
   "source": [
    "* Using slicing, create the following array:"
   ]
  },
  {
   "cell_type": "code",
   "execution_count": 20,
   "metadata": {},
   "outputs": [
    {
     "data": {
      "text/plain": [
       "array([[1., 1., 1., 1., 1., 1., 1., 1., 1.],\n",
       "       [1., 0., 0., 0., 0., 0., 0., 0., 1.],\n",
       "       [1., 0., 1., 1., 1., 1., 1., 0., 1.],\n",
       "       [1., 0., 1., 0., 0., 0., 1., 0., 1.],\n",
       "       [1., 0., 1., 0., 1., 0., 1., 0., 1.],\n",
       "       [1., 0., 1., 0., 0., 0., 1., 0., 1.],\n",
       "       [1., 0., 1., 1., 1., 1., 1., 0., 1.],\n",
       "       [1., 0., 0., 0., 0., 0., 0., 0., 1.],\n",
       "       [1., 1., 1., 1., 1., 1., 1., 1., 1.]])"
      ]
     },
     "execution_count": 20,
     "metadata": {},
     "output_type": "execute_result"
    }
   ],
   "source": [
    "arr_ones1 = arr_ones.copy()\n",
    "arr_ones1[1:8, 1:8] = 0\n",
    "arr_ones1[2:7:4, 2:7] = 1\n",
    "arr_ones1[2:7, 2:7:4] = 1\n",
    "arr_ones1[4,4] = 1\n",
    "arr_ones1"
   ]
  },
  {
   "cell_type": "markdown",
   "metadata": {},
   "source": [
    "* Using broadcasting create an output matrix based on the following two arrays:"
   ]
  },
  {
   "cell_type": "code",
   "execution_count": 21,
   "metadata": {},
   "outputs": [
    {
     "data": {
      "text/plain": [
       "array([[ 1,  2,  3],\n",
       "       [ 2,  4,  6],\n",
       "       [ 3,  6,  9],\n",
       "       [ 4,  8, 12],\n",
       "       [ 5, 10, 15]], dtype=int8)"
      ]
     },
     "execution_count": 21,
     "metadata": {},
     "output_type": "execute_result"
    }
   ],
   "source": [
    "array_1 = np.array([1,2,3,4,5], dtype=np.int8)\n",
    "array_1\n",
    "array_2 = np.array([1,2,3], dtype=np.int8)\n",
    "array_2\n",
    "\n",
    "np.outer(array_1,array_2)"
   ]
  },
  {
   "cell_type": "markdown",
   "metadata": {},
   "source": [
    "### Exercise 7: NaN"
   ]
  },
  {
   "cell_type": "markdown",
   "metadata": {},
   "source": [
    "1. The goal of this exercise is to handle missing data in NumPy and manipulate arrays effectively.\n",
    "\n",
    "Let's consider a 2-dimensional array containing grades from the last two exams. Some students missed the first exam, so their grades are replaced with NaN.\n",
    "\n",
    "To simulate this scenario, we'll create a mock dataset using NumPy. Here's a snippet of code to generate this dataset:"
   ]
  },
  {
   "cell_type": "code",
   "execution_count": 22,
   "metadata": {},
   "outputs": [
    {
     "name": "stdout",
     "output_type": "stream",
     "text": [
      "[[ 7.  1.]\n",
      " [nan  2.]\n",
      " [nan  8.]\n",
      " [ 9.  3.]\n",
      " [ 8.  9.]\n",
      " [nan  2.]\n",
      " [ 8.  2.]\n",
      " [nan  6.]\n",
      " [ 9.  2.]\n",
      " [ 8.  5.]]\n"
     ]
    }
   ],
   "source": [
    "import numpy as np\n",
    "\n",
    "generator = np.random.default_rng(123)\n",
    "grades = np.round(generator.uniform(low = 0.0, high = 10.0, size = (10, 2)))\n",
    "grades[[1,2,5,7], [0,0,0,0]] = np.nan\n",
    "print(grades)\n"
   ]
  },
  {
   "cell_type": "markdown",
   "metadata": {},
   "source": [
    "2. Using np.where, create a third column that takes the grade of the first exam if available; otherwise, it uses the grade from the second exam. Add this column as the third column of the array.\n"
   ]
  },
  {
   "cell_type": "code",
   "execution_count": 23,
   "metadata": {},
   "outputs": [
    {
     "data": {
      "text/plain": [
       "array([[ 7.,  1.,  7.],\n",
       "       [nan,  2.,  2.],\n",
       "       [nan,  8.,  8.],\n",
       "       [ 9.,  3.,  9.],\n",
       "       [ 8.,  9.,  8.],\n",
       "       [nan,  2.,  2.],\n",
       "       [ 8.,  2.,  8.],\n",
       "       [nan,  6.,  6.],\n",
       "       [ 9.,  2.,  9.],\n",
       "       [ 8.,  5.,  8.]])"
      ]
     },
     "execution_count": 23,
     "metadata": {},
     "output_type": "execute_result"
    }
   ],
   "source": [
    "thirdcols = np.where(np.isnan(grades[:,0]), grades[:,1],grades[:,0])\n",
    "thirdcols\n",
    "np.column_stack((grades,thirdcols))"
   ]
  },
  {
   "cell_type": "markdown",
   "metadata": {},
   "source": [
    "### Exercise 8: Wine"
   ]
  },
  {
   "cell_type": "markdown",
   "metadata": {},
   "source": [
    "1. Load the data using genfromtxt, specifying the delimiter as ';', and optimize the numpy array size by reducing the data types. Use np.float32 and verify that the resulting numpy array weighs 76800 bytes."
   ]
  },
  {
   "cell_type": "code",
   "execution_count": 24,
   "metadata": {},
   "outputs": [
    {
     "data": {
      "text/plain": [
       "76800"
      ]
     },
     "execution_count": 24,
     "metadata": {},
     "output_type": "execute_result"
    }
   ],
   "source": [
    "data = np.genfromtxt(\"data/winequality-red.csv\",delimiter=';',dtype=np.float32)\n",
    "data.nbytes"
   ]
  },
  {
   "cell_type": "markdown",
   "metadata": {},
   "source": [
    "2. Display the 2nd, 7th, and 12th rows as a two-dimensional array. Exclude np.nan values if present."
   ]
  },
  {
   "cell_type": "code",
   "execution_count": 25,
   "metadata": {},
   "outputs": [
    {
     "data": {
      "text/plain": [
       "array([[ 7.4   ,  0.7   ,  0.    ,  1.9   ,  0.076 , 11.    , 34.    ,\n",
       "         0.9978,  3.51  ,  0.56  ,  9.4   ,  5.    ],\n",
       "       [ 7.4   ,  0.66  ,  0.    ,  1.8   ,  0.075 , 13.    , 40.    ,\n",
       "         0.9978,  3.51  ,  0.56  ,  9.4   ,  5.    ],\n",
       "       [ 6.7   ,  0.58  ,  0.08  ,  1.8   ,  0.097 , 15.    , 65.    ,\n",
       "         0.9959,  3.28  ,  0.54  ,  9.2   ,  5.    ]], dtype=float32)"
      ]
     },
     "execution_count": 25,
     "metadata": {},
     "output_type": "execute_result"
    }
   ],
   "source": [
    "filteredData = data[np.array([1,6,11])]\n",
    "filteredData"
   ]
  },
  {
   "cell_type": "markdown",
   "metadata": {},
   "source": [
    "3. Determine if there is any wine in the dataset with an alcohol percentage greater than 20%. Return True or False."
   ]
  },
  {
   "cell_type": "code",
   "execution_count": 26,
   "metadata": {},
   "outputs": [
    {
     "data": {
      "text/plain": [
       "np.False_"
      ]
     },
     "execution_count": 26,
     "metadata": {},
     "output_type": "execute_result"
    }
   ],
   "source": [
    "alcohol = data[1:,10]\n",
    "np.any(alcohol > 20)"
   ]
  },
  {
   "cell_type": "markdown",
   "metadata": {},
   "source": [
    "4. Calculate the average alcohol percentage across all wines in the dataset. Exclude np.nan values if present."
   ]
  },
  {
   "cell_type": "code",
   "execution_count": 27,
   "metadata": {},
   "outputs": [
    {
     "data": {
      "text/plain": [
       "np.float32(10.422984)"
      ]
     },
     "execution_count": 27,
     "metadata": {},
     "output_type": "execute_result"
    }
   ],
   "source": [
    "np.average(alcohol)"
   ]
  },
  {
   "cell_type": "markdown",
   "metadata": {},
   "source": [
    "5. Compute various statistical measures (minimum, maximum, 25th percentile, 50th percentile, 75th percentile and the mean for the pH values)."
   ]
  },
  {
   "cell_type": "code",
   "execution_count": 28,
   "metadata": {},
   "outputs": [
    {
     "name": "stdout",
     "output_type": "stream",
     "text": [
      "\n",
      "minimum PH: 2.74\n",
      "maximum pH 4.01\n",
      "mean: 3.31\n",
      "25th percentile: 3.21\n",
      "50th percentile: 3.31\n",
      "75th percentile: 3.40\n",
      "\n"
     ]
    }
   ],
   "source": [
    "pHcol = data[1:,8]\n",
    "\n",
    "#min pH\n",
    "minpH = min(pHcol)\n",
    "\n",
    "#max pH\n",
    "maxpH = max(pHcol)\n",
    "\n",
    "#mean\n",
    "mean = np.mean(pHcol)\n",
    "\n",
    "#25th percentil\n",
    "perc25 = np.percentile(pHcol,25)\n",
    "\n",
    "#50th percentile\n",
    "perc50 = np.percentile(pHcol,50)\n",
    "\n",
    "#75th percentile\n",
    "perc75 = np.percentile(pHcol,75)\n",
    "\n",
    "print(f\"\"\"\n",
    "minimum PH: {minpH:.2f}\n",
    "maximum pH {maxpH:.2f}\n",
    "mean: {mean:.2f}\n",
    "25th percentile: {perc25:.2f}\n",
    "50th percentile: {perc50:.2f}\n",
    "75th percentile: {perc75:.2f}\n",
    "\"\"\")"
   ]
  },
  {
   "cell_type": "markdown",
   "metadata": {},
   "source": [
    "6.  Find the average quality score of wines with the 20% least sulphate content."
   ]
  },
  {
   "cell_type": "code",
   "execution_count": 29,
   "metadata": {},
   "outputs": [
    {
     "name": "stdout",
     "output_type": "stream",
     "text": [
      "5.2\n"
     ]
    }
   ],
   "source": [
    "sulf = data[1:,9]\n",
    "quality = data[1:,11]\n",
    "\n",
    "#20th s0lf percentil\n",
    "perc20sulf = np.percentile(sulf,20)\n",
    "\n",
    "#sulfate lower that 20%\n",
    "lowersulf = quality[sulf<= perc20sulf ]\n",
    "\n",
    "\n",
    "sulfmean = np.average(lowersulf)\n",
    "print(f\"{sulfmean:.1f}\")\n",
    "\n"
   ]
  },
  {
   "cell_type": "markdown",
   "metadata": {},
   "source": [
    "7. Compute the mean of all variables for wines with the best quality. Also, do the same for wines with the worst quality."
   ]
  },
  {
   "cell_type": "code",
   "execution_count": 30,
   "metadata": {},
   "outputs": [
    {
     "name": "stdout",
     "output_type": "stream",
     "text": [
      "\n",
      "mean best wine quality: [ 8.566666    0.4233333   0.39111114  2.5777776   0.06844445 13.277778\n",
      " 33.444443    0.99521226  3.2672222   0.76777774 12.094444    8.        ]\n",
      "mean worst wine quality: [ 8.359999    0.8845      0.17099999  2.6350002   0.12249999 11.\n",
      " 24.9         0.997464    3.398       0.57000005  9.955       3.        ]\n",
      "\n"
     ]
    }
   ],
   "source": [
    "#max wine quality\n",
    "maxquality = max(quality)\n",
    "\n",
    "#min wine quality\n",
    "minquality = min(quality)\n",
    "#max quality mask \n",
    "maxqualitymask = quality == maxquality\n",
    "#max quality mask \n",
    "minqualitymask = quality == minquality\n",
    "\n",
    "maxqualitywine = data[1:][maxqualitymask]\n",
    "minqualitywine = data[1:][minqualitymask]\n",
    "\n",
    "#mean best quality\n",
    "meanbest= np.mean(maxqualitywine,axis=0)\n",
    "\n",
    "#mean worst quality\n",
    "meanworst= np.mean(minqualitywine,axis=0)\n",
    "\n",
    "print(f\"\"\"\n",
    "mean best wine quality:\n",
    "{meanbest}\n",
    "mean worst wine quality:\n",
    "{meanworst}\n",
    "\"\"\")\n"
   ]
  },
  {
   "cell_type": "markdown",
   "metadata": {},
   "source": [
    "## Exercise 9: Football tournament"
   ]
  },
  {
   "cell_type": "markdown",
   "metadata": {},
   "source": [
    "* Load the data"
   ]
  },
  {
   "cell_type": "code",
   "execution_count": 31,
   "metadata": {},
   "outputs": [
    {
     "data": {
      "text/plain": [
       "(3628800, 10)"
      ]
     },
     "execution_count": 31,
     "metadata": {},
     "output_type": "execute_result"
    }
   ],
   "source": [
    "fdata = np.genfromtxt(\"data/model_forecasts.txt\",delimiter=\",\")\n",
    "\n",
    "import itertools\n",
    "\n",
    "teams= np.arange(fdata.shape[0])\n",
    "perm = np.array(list(itertools.permutations(teams)))\n",
    "\n",
    "perm.shape"
   ]
  },
  {
   "cell_type": "code",
   "execution_count": 32,
   "metadata": {},
   "outputs": [],
   "source": [
    "def diff_calc(perm):\n",
    "    matchindices = np.arange(0,len(perm),2)\n",
    "    \n",
    "    team1indices =  perm[matchindices]\n",
    "    team2indices = perm[matchindices+1]\n",
    "    \n",
    "    validindices = ~np.isnan(fdata[team1indices,team2indices])\n",
    "    difference = fdata[team1indices,team2indices][validindices]\n",
    "    \n",
    "    return np.sum(difference ** 2)"
   ]
  },
  {
   "cell_type": "markdown",
   "metadata": {},
   "source": [
    "2. calculate the squared difference"
   ]
  },
  {
   "cell_type": "code",
   "execution_count": 33,
   "metadata": {},
   "outputs": [],
   "source": [
    "diffsquared = np.apply_along_axis(diff_calc,1,perm)"
   ]
  },
  {
   "cell_type": "code",
   "execution_count": 34,
   "metadata": {},
   "outputs": [],
   "source": [
    "mindiffsquaredindices = np.argmin(diffsquared)\n",
    "mindiff = perm[mindiffsquaredindices]"
   ]
  },
  {
   "cell_type": "code",
   "execution_count": 35,
   "metadata": {},
   "outputs": [
    {
     "data": {
      "text/plain": [
       "array([[0, 1, 2, 3, 5],\n",
       "       [8, 7, 9, 4, 6]])"
      ]
     },
     "execution_count": 35,
     "metadata": {},
     "output_type": "execute_result"
    }
   ],
   "source": [
    "mindices = np.arange(0,len(mindiff),2)\n",
    "t1indices = mindiff[mindices]\n",
    "t2indices = mindiff[mindices+1]\n",
    "\n",
    "r = np.array([t1indices,t2indices])\n",
    "r"
   ]
  }
 ],
 "metadata": {
  "kernelspec": {
   "display_name": "Python 3 (Spyder)",
   "language": "python3",
   "name": "python3"
  },
  "language_info": {
   "codemirror_mode": {
    "name": "ipython",
    "version": 3
   },
   "file_extension": ".py",
   "mimetype": "text/x-python",
   "name": "python",
   "nbconvert_exporter": "python",
   "pygments_lexer": "ipython3",
   "version": "3.11.9"
  }
 },
 "nbformat": 4,
 "nbformat_minor": 4
}
